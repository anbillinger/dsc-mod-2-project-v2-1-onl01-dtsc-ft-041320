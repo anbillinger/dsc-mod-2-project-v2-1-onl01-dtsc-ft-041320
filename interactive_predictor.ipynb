{
 "cells": [
  {
   "cell_type": "markdown",
   "metadata": {},
   "source": [
    "## King County House Pricing Predictor\n",
    "This feature will give a prediction for the cost of a house in King County based on square feet of living area and possibly a zipcode."
   ]
  },
  {
   "cell_type": "code",
   "execution_count": 4,
   "metadata": {},
   "outputs": [
    {
     "name": "stdout",
     "output_type": "stream",
     "text": [
      "What is your zipcode? 100\n",
      "What is the total living area of the house? 1000\n",
      "Sorry, couldn't find that zip code. Using only living area.\n",
      "Predicted value of house based on living area 1000.0 is 177388.98\n"
     ]
    }
   ],
   "source": [
    "import predict_house_price_interactive\n",
    "%run predict_house_price_interactive"
   ]
  },
  {
   "cell_type": "markdown",
   "metadata": {},
   "source": [
    "<br>"
   ]
  },
  {
   "cell_type": "markdown",
   "metadata": {},
   "source": [
    " "
   ]
  }
 ],
 "metadata": {
  "kernelspec": {
   "display_name": "Python [conda env:learn-env] *",
   "language": "python",
   "name": "conda-env-learn-env-py"
  },
  "language_info": {
   "codemirror_mode": {
    "name": "ipython",
    "version": 3
   },
   "file_extension": ".py",
   "mimetype": "text/x-python",
   "name": "python",
   "nbconvert_exporter": "python",
   "pygments_lexer": "ipython3",
   "version": "3.6.9"
  }
 },
 "nbformat": 4,
 "nbformat_minor": 2
}
